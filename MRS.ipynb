{
 "cells": [
  {
   "cell_type": "code",
   "execution_count": 3,
   "id": "78283955",
   "metadata": {},
   "outputs": [],
   "source": [
    "import numpy as np\n",
    "import pandas as pd\n",
    "import ast \n",
    "from sklearn.feature_extraction.text import CountVectorizer\n",
    "from nltk.stem.porter import PorterStemmer\n",
    "from sklearn.metrics.pairwise import cosine_similarity\n",
    "import pickle"
   ]
  },
  {
   "cell_type": "code",
   "execution_count": 4,
   "id": "52654bbe",
   "metadata": {},
   "outputs": [],
   "source": [
    "#Read movies and credits csv files\n",
    "movies = pd.read_csv('tmdb_5000_movies.csv')\n",
    "credits = pd.read_csv('tmdb_5000_credits.csv')"
   ]
  },
  {
   "cell_type": "code",
   "execution_count": 5,
   "id": "c15c8aef",
   "metadata": {},
   "outputs": [],
   "source": [
    "#Merge movies and credits dataframe\n",
    "movies = movies.merge(credits, on='title')"
   ]
  },
  {
   "cell_type": "code",
   "execution_count": 6,
   "id": "354639f9",
   "metadata": {},
   "outputs": [],
   "source": [
    "#Remove unnecessary columns\n",
    "#Keep id, genres, keywords, title, overview, cast, crew\n",
    "\n",
    "movies = movies[['id', 'title', 'overview', 'genres', 'keywords', 'cast', 'crew']]"
   ]
  },
  {
   "cell_type": "code",
   "execution_count": 7,
   "id": "b6aa07ee",
   "metadata": {},
   "outputs": [],
   "source": [
    "#Remove movies with null or duplicate values\n",
    "movies.dropna(inplace=True)"
   ]
  },
  {
   "cell_type": "code",
   "execution_count": 8,
   "id": "f7eb2da8",
   "metadata": {},
   "outputs": [],
   "source": [
    "#Function for converting columns values from list of dictionaries to simple list\n",
    "#Use literal eval function from ast module\n",
    "#Apply on genres and keywords columns\n",
    "def convert_genres_keywords(Object):\n",
    "    details = []\n",
    "    for i in ast.literal_eval(Object):\n",
    "        details.append(i['name'])\n",
    "    return details"
   ]
  },
  {
   "cell_type": "code",
   "execution_count": 9,
   "id": "02f2c5c5",
   "metadata": {},
   "outputs": [],
   "source": [
    "#Function for converting columns values from list of dictionaries to simple list\n",
    "#Use literal eval function from ast module\n",
    "#Apply on cast columns for first 4 actors\n",
    "def convert_cast(Object):\n",
    "    details = []\n",
    "    counter = 0\n",
    "    for i in ast.literal_eval(Object):\n",
    "        if counter != 4:\n",
    "            details.append(i['name'])\n",
    "            counter += 1\n",
    "        else:\n",
    "            break\n",
    "    return details"
   ]
  },
  {
   "cell_type": "code",
   "execution_count": 10,
   "id": "683b3823",
   "metadata": {},
   "outputs": [],
   "source": [
    "#Function for converting columns values from list of dictionaries to simple list\n",
    "#Use literal eval function from ast module\n",
    "#Apply on crew column for Director of the movie only\n",
    "def convert_crew(Object):\n",
    "    director = []\n",
    "    for i in ast.literal_eval(Object):\n",
    "        if i['job'] == 'Director':\n",
    "            director.append(i['name'])\n",
    "            break\n",
    "    return director"
   ]
  },
  {
   "cell_type": "code",
   "execution_count": 11,
   "id": "5ecb211a",
   "metadata": {},
   "outputs": [],
   "source": [
    "for column_name in movies.columns:\n",
    "    if column_name == \"genres\" or column_name == \"keywords\":\n",
    "        movies[column_name] = movies[column_name].apply(convert_genres_keywords)\n",
    "    elif column_name == \"cast\":\n",
    "        movies[column_name] = movies[column_name].apply(convert_cast)\n",
    "    elif column_name == \"crew\":\n",
    "        movies[column_name] = movies[column_name].apply(convert_crew)"
   ]
  },
  {
   "cell_type": "code",
   "execution_count": 12,
   "id": "96a94fc8",
   "metadata": {},
   "outputs": [],
   "source": [
    "#Change overview from string to list for creating TAGS using concatenation\n",
    "movies['overview'] = movies['overview'].apply(lambda x:x.split())"
   ]
  },
  {
   "cell_type": "code",
   "execution_count": 13,
   "id": "3df6295c",
   "metadata": {},
   "outputs": [
    {
     "data": {
      "text/html": [
       "<div>\n",
       "<style scoped>\n",
       "    .dataframe tbody tr th:only-of-type {\n",
       "        vertical-align: middle;\n",
       "    }\n",
       "\n",
       "    .dataframe tbody tr th {\n",
       "        vertical-align: top;\n",
       "    }\n",
       "\n",
       "    .dataframe thead th {\n",
       "        text-align: right;\n",
       "    }\n",
       "</style>\n",
       "<table border=\"1\" class=\"dataframe\">\n",
       "  <thead>\n",
       "    <tr style=\"text-align: right;\">\n",
       "      <th></th>\n",
       "      <th>id</th>\n",
       "      <th>title</th>\n",
       "      <th>overview</th>\n",
       "      <th>genres</th>\n",
       "      <th>keywords</th>\n",
       "      <th>cast</th>\n",
       "      <th>crew</th>\n",
       "    </tr>\n",
       "  </thead>\n",
       "  <tbody>\n",
       "    <tr>\n",
       "      <th>0</th>\n",
       "      <td>19995</td>\n",
       "      <td>Avatar</td>\n",
       "      <td>[In, the, 22nd, century,, a, paraplegic, Marin...</td>\n",
       "      <td>[Action, Adventure, Fantasy, Science Fiction]</td>\n",
       "      <td>[culture clash, future, space war, space colon...</td>\n",
       "      <td>[Sam Worthington, Zoe Saldana, Sigourney Weave...</td>\n",
       "      <td>[James Cameron]</td>\n",
       "    </tr>\n",
       "    <tr>\n",
       "      <th>1</th>\n",
       "      <td>285</td>\n",
       "      <td>Pirates of the Caribbean: At World's End</td>\n",
       "      <td>[Captain, Barbossa,, long, believed, to, be, d...</td>\n",
       "      <td>[Adventure, Fantasy, Action]</td>\n",
       "      <td>[ocean, drug abuse, exotic island, east india ...</td>\n",
       "      <td>[Johnny Depp, Orlando Bloom, Keira Knightley, ...</td>\n",
       "      <td>[Gore Verbinski]</td>\n",
       "    </tr>\n",
       "    <tr>\n",
       "      <th>2</th>\n",
       "      <td>206647</td>\n",
       "      <td>Spectre</td>\n",
       "      <td>[A, cryptic, message, from, Bond’s, past, send...</td>\n",
       "      <td>[Action, Adventure, Crime]</td>\n",
       "      <td>[spy, based on novel, secret agent, sequel, mi...</td>\n",
       "      <td>[Daniel Craig, Christoph Waltz, Léa Seydoux, R...</td>\n",
       "      <td>[Sam Mendes]</td>\n",
       "    </tr>\n",
       "    <tr>\n",
       "      <th>3</th>\n",
       "      <td>49026</td>\n",
       "      <td>The Dark Knight Rises</td>\n",
       "      <td>[Following, the, death, of, District, Attorney...</td>\n",
       "      <td>[Action, Crime, Drama, Thriller]</td>\n",
       "      <td>[dc comics, crime fighter, terrorist, secret i...</td>\n",
       "      <td>[Christian Bale, Michael Caine, Gary Oldman, A...</td>\n",
       "      <td>[Christopher Nolan]</td>\n",
       "    </tr>\n",
       "    <tr>\n",
       "      <th>4</th>\n",
       "      <td>49529</td>\n",
       "      <td>John Carter</td>\n",
       "      <td>[John, Carter, is, a, war-weary,, former, mili...</td>\n",
       "      <td>[Action, Adventure, Science Fiction]</td>\n",
       "      <td>[based on novel, mars, medallion, space travel...</td>\n",
       "      <td>[Taylor Kitsch, Lynn Collins, Samantha Morton,...</td>\n",
       "      <td>[Andrew Stanton]</td>\n",
       "    </tr>\n",
       "  </tbody>\n",
       "</table>\n",
       "</div>"
      ],
      "text/plain": [
       "       id                                     title  \\\n",
       "0   19995                                    Avatar   \n",
       "1     285  Pirates of the Caribbean: At World's End   \n",
       "2  206647                                   Spectre   \n",
       "3   49026                     The Dark Knight Rises   \n",
       "4   49529                               John Carter   \n",
       "\n",
       "                                            overview  \\\n",
       "0  [In, the, 22nd, century,, a, paraplegic, Marin...   \n",
       "1  [Captain, Barbossa,, long, believed, to, be, d...   \n",
       "2  [A, cryptic, message, from, Bond’s, past, send...   \n",
       "3  [Following, the, death, of, District, Attorney...   \n",
       "4  [John, Carter, is, a, war-weary,, former, mili...   \n",
       "\n",
       "                                          genres  \\\n",
       "0  [Action, Adventure, Fantasy, Science Fiction]   \n",
       "1                   [Adventure, Fantasy, Action]   \n",
       "2                     [Action, Adventure, Crime]   \n",
       "3               [Action, Crime, Drama, Thriller]   \n",
       "4           [Action, Adventure, Science Fiction]   \n",
       "\n",
       "                                            keywords  \\\n",
       "0  [culture clash, future, space war, space colon...   \n",
       "1  [ocean, drug abuse, exotic island, east india ...   \n",
       "2  [spy, based on novel, secret agent, sequel, mi...   \n",
       "3  [dc comics, crime fighter, terrorist, secret i...   \n",
       "4  [based on novel, mars, medallion, space travel...   \n",
       "\n",
       "                                                cast                 crew  \n",
       "0  [Sam Worthington, Zoe Saldana, Sigourney Weave...      [James Cameron]  \n",
       "1  [Johnny Depp, Orlando Bloom, Keira Knightley, ...     [Gore Verbinski]  \n",
       "2  [Daniel Craig, Christoph Waltz, Léa Seydoux, R...         [Sam Mendes]  \n",
       "3  [Christian Bale, Michael Caine, Gary Oldman, A...  [Christopher Nolan]  \n",
       "4  [Taylor Kitsch, Lynn Collins, Samantha Morton,...     [Andrew Stanton]  "
      ]
     },
     "execution_count": 13,
     "metadata": {},
     "output_type": "execute_result"
    }
   ],
   "source": [
    "movies.head()"
   ]
  },
  {
   "cell_type": "code",
   "execution_count": 14,
   "id": "24dee484",
   "metadata": {},
   "outputs": [],
   "source": [
    "#Remove whitespaces in order to make the recommendation system \n",
    "#recognize every genre/keywords/cast/crew as unique entities and \n",
    "#not get confused between 2 entities with same first name\n",
    "movies['genres'] = movies['genres'].apply(lambda x:[i.replace(\" \",\"\") for i in x])\n",
    "movies['keywords'] = movies['keywords'].apply(lambda x:[i.replace(\" \",\"\") for i in x])\n",
    "movies['cast'] = movies['cast'].apply(lambda x:[i.replace(\" \",\"\") for i in x])\n",
    "movies['crew'] = movies['crew'].apply(lambda x:[i.replace(\" \",\"\") for i in x])"
   ]
  },
  {
   "cell_type": "code",
   "execution_count": 15,
   "id": "62177cf9",
   "metadata": {},
   "outputs": [],
   "source": [
    "#Create a TAGS column that includes all columns of the movies.\n",
    "#Considers all columns overview, genre, keywords, cast, and crew while making recommendations\n",
    "movies['tags'] = movies['overview'] + movies['genres'] + movies['keywords'] + movies['cast'] + movies['crew']"
   ]
  },
  {
   "cell_type": "code",
   "execution_count": 19,
   "id": "d4ad2a10",
   "metadata": {},
   "outputs": [],
   "source": [
    "#Create new dataframe with only the tags\n",
    "new = movies.drop(columns=['overview','genres','keywords','cast','crew'])"
   ]
  },
  {
   "cell_type": "code",
   "execution_count": 26,
   "id": "6574bff6",
   "metadata": {},
   "outputs": [],
   "source": [
    "#Convert tags back to string\n",
    "new['tags'] = new['tags'].apply(lambda x: \" \".join(x))"
   ]
  },
  {
   "cell_type": "code",
   "execution_count": 27,
   "id": "78689b07",
   "metadata": {},
   "outputs": [],
   "source": [
    "#Initialise count vectorrizer \n",
    "cv = CountVectorizer(max_features=6000, stop_words=\"english\")"
   ]
  },
  {
   "cell_type": "code",
   "execution_count": 30,
   "id": "94c0a453",
   "metadata": {},
   "outputs": [],
   "source": [
    "vectors = cv.fit_transform(new['tags']).toarray()"
   ]
  },
  {
   "cell_type": "code",
   "execution_count": 31,
   "id": "8def7189",
   "metadata": {},
   "outputs": [],
   "source": [
    "#Function for stemming the text\n",
    "ps = PorterStemmer()\n",
    "def stem_text(text):\n",
    "    result = []\n",
    "    for word in text.split():\n",
    "        result.append(ps.stem(word))\n",
    "    return \" \".join(result)"
   ]
  },
  {
   "cell_type": "code",
   "execution_count": 32,
   "id": "0b529d25",
   "metadata": {},
   "outputs": [],
   "source": [
    "new['tags'] = new['tags'].apply(stem_text)"
   ]
  },
  {
   "cell_type": "code",
   "execution_count": 33,
   "id": "aa6f1618",
   "metadata": {},
   "outputs": [],
   "source": [
    "similarity = cosine_similarity(vectors)"
   ]
  },
  {
   "cell_type": "code",
   "execution_count": 44,
   "id": "ae49d6d2",
   "metadata": {},
   "outputs": [],
   "source": [
    "#Recommend function based on tags, which returns the 25 most similar movies\n",
    "#Enumerate and then sort, since we must keep track of the id of the movie in order to display it\n",
    "def recommend(movie):\n",
    "    index = new[new['title'] == movie].index[0]\n",
    "    distances = sorted(list(enumerate(similarity[index])),reverse=True,key = lambda x: x[1])\n",
    "    for i in distances[1:11]:\n",
    "        print(new.iloc[i[0]].title)\n",
    "        print(new.iloc[i[0]].id)"
   ]
  },
  {
   "cell_type": "code",
   "execution_count": 45,
   "id": "24b3f574",
   "metadata": {},
   "outputs": [],
   "source": [
    "#Convert list of movies to a dictionary to transfer it to streamlit website as binary file\n",
    "pickle.dump(movies.to_dict(), open('movies_list.pkl','wb'))"
   ]
  },
  {
   "cell_type": "code",
   "execution_count": 46,
   "id": "0fc5cf59",
   "metadata": {},
   "outputs": [],
   "source": [
    "#Dump recommendation function as binary files to be used on streamlit website\n",
    "pickle.dump(similarity, open('similarity.pkl', 'wb'))"
   ]
  },
  {
   "cell_type": "code",
   "execution_count": null,
   "id": "df96aa38",
   "metadata": {},
   "outputs": [],
   "source": []
  }
 ],
 "metadata": {
  "kernelspec": {
   "display_name": "Python 3",
   "language": "python",
   "name": "python3"
  },
  "language_info": {
   "codemirror_mode": {
    "name": "ipython",
    "version": 3
   },
   "file_extension": ".py",
   "mimetype": "text/x-python",
   "name": "python",
   "nbconvert_exporter": "python",
   "pygments_lexer": "ipython3",
   "version": "3.8.8"
  }
 },
 "nbformat": 4,
 "nbformat_minor": 5
}
